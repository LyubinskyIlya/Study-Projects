{
 "cells": [
  {
   "cell_type": "markdown",
   "metadata": {},
   "source": [
    "# Алгоритмы интеллектуальной обработки больших объемов данных\n",
    "## Домашнее задание №4 - Алгоритмы кластеризации\n"
   ]
  },
  {
   "cell_type": "markdown",
   "metadata": {},
   "source": [
    "###### <hr\\>\n",
    "**Общая информация**\n",
    "\n",
    "**Срок сдачи:** 6 мая 2019, 06:00 <br\\>\n",
    "**Штраф за опоздание:** -2 балла после 06:00 6 мая, -4 балла после 06:00 13 мая, -6 баллов после 06:00 20 мая -8 баллов  после 06:00 27 мая\n",
    "\n",
    "\n",
    "Используйте данный Ipython Notebook при оформлении домашнего задания.\n",
    "<hr\\>"
   ]
  },
  {
   "cell_type": "markdown",
   "metadata": {},
   "source": [
    "**Из чего состоит задание:**\n",
    "\n",
    "###### Теоретические вопросы (2 балла)\n",
    "\n",
    "###### Реализация алгоритма кластеризации (5 баллов)\n",
    "\n",
    "###### Боевое применение (3 балла)\n",
    "\n",
    "\n"
   ]
  },
  {
   "cell_type": "markdown",
   "metadata": {},
   "source": [
    "**Штрафные баллы:**\n",
    "\n",
    "1. Невыполнение PEP8 -1 балл\n",
    "2. Отсутствие фамилии в имени скрипта (скрипт должен называться по аналогии со stroykova_hw4.ipynb) -1 балл\n",
    "3. Все строчки должны быть выполнены. Нужно, чтобы output команды можно было увидеть уже в git'е. В противном случае -1 балл\n",
    "4. При оформлении ДЗ нужно пользоваться данным файлом в качестве шаблона. Не нужно удалять и видоизменять написанный код и текст. В противном случае -1 балл"
   ]
  },
  {
   "cell_type": "code",
   "execution_count": 1,
   "metadata": {},
   "outputs": [
    {
     "name": "stdout",
     "output_type": "stream",
     "text": [
      "Populating the interactive namespace from numpy and matplotlib\n"
     ]
    }
   ],
   "source": [
    "import time\n",
    "import pandas as pd\n",
    "import pylab as pl\n",
    "import numpy as np\n",
    "import scipy.spatial as ss\n",
    "import sklearn.cluster as sc\n",
    "import sklearn.manifold as sm\n",
    "import sklearn.datasets as ds\n",
    "import sklearn.metrics as smt\n",
    "from sklearn.metrics import f1_score\n",
    "import scipy\n",
    "#import copy\n",
    "from scipy.spatial.distance import cdist\n",
    "from sklearn.mixture import GaussianMixture\n",
    "from sklearn.cluster import AgglomerativeClustering\n",
    "from sklearn.model_selection import KFold, train_test_split, GridSearchCV, RandomizedSearchCV\n",
    "\n",
    "import matplotlib.pyplot as plt\n",
    "\n",
    "%matplotlib inline\n",
    "\n",
    "plt.style.use('ggplot')\n",
    "plt.rcParams['figure.figsize'] = (12,5)\n",
    "\n",
    "# Plotting config\n",
    "%pylab inline"
   ]
  },
  {
   "cell_type": "markdown",
   "metadata": {},
   "source": [
    "# Теоретическое введение\n"
   ]
  },
  {
   "cell_type": "markdown",
   "metadata": {},
   "source": [
    "Основная задача кластерного анализа — разбиение исходного набора объектов на группы (кластеры) таким образом, чтобы объекты в группе были похожи друг на друга, а объекты из разных групп - отличались. \n",
    "\n",
    "В этой работе мы будем реализовывать агломеративную кластеризацию. "
   ]
  },
  {
   "cell_type": "markdown",
   "metadata": {
    "collapsed": true
   },
   "source": [
    "## Агломеративная кластеризация"
   ]
  },
  {
   "cell_type": "markdown",
   "metadata": {},
   "source": [
    "Иерархические алгоритмы кластеризации строят на выборке систему вложенных разбиений.  Наиболее часто испоьзуемые иерархические алгоритмы - агломеративные алгоритмы, которые строят ирархию по восходящей, то есть от момента, когда все элементы являются отдельными кластерами, до того момента, пока вся выборка не станет одним кластером."
   ]
  },
  {
   "cell_type": "markdown",
   "metadata": {},
   "source": [
    "Сам алгоритм описать можно примерно так:\n",
    "\n",
    "* начинаем с ситуации, когда каждый объект - отдельный кластер\n",
    "* на каждом шаге совмещаем два наиболее близких кластера\n",
    "* останавливаемся, когда получаем требуемое количество или единственный кластер"
   ]
  },
  {
   "cell_type": "markdown",
   "metadata": {},
   "source": [
    "\n",
    "В данной работе Вам предлагается реализовать три варианта расстояний между кластерами, по которым Вы определяете пару для слияния: \n",
    "* Single linkage\n",
    "$$ d_{min}(C_i, C_j) = \\min_{\\mathbf{x} \\in C_i, \\mathbf{x}' \\in C_j} \\|\\mathbf{x} -\\mathbf{x}' \\| $$\n",
    "\n",
    "* Complete linkage\n",
    "$$ d_{max}(C_i, C_j) = \\max_{\\mathbf{x} \\in C_i, \\mathbf{x}' \\in C_j} \\|\\mathbf{x} -\\mathbf{x}' \\| $$\n",
    "\n",
    "* Average linkage\n",
    "$$ d_{avg}(C_i, C_j) = \\frac{1}{n_i n_j}\\sum_{\\mathbf{x} \\in C_i}\\sum_{\\mathbf{x}' \\in C_j} \\|\\mathbf{x} -\\mathbf{x}' \\| $$\n",
    "\n",
    "Как считать расстояние $\\|\\mathbf{x} -\\mathbf{x}' \\|$ между объектами Вы должны выбрать сами.  Вы должны четко понимать, что выбор расстояния между объектами - самое важное в такого рода алгоритмах. Передавайте название расстояния в конструктор класса, а потом, в зависимости от названия, применяете ту или иную функцию для подсчета расстояния. \n",
    "\n"
   ]
  },
  {
   "cell_type": "markdown",
   "metadata": {},
   "source": [
    "Для того, чтобы на втором этапе нам не пересчитывать заново расстояния между всеми парами кластеров, можно использовать Формулы Ланса-Вильямса, которые позволяют посчитать расстояние между кластерами после объединения, используя только расстояния между кластерами до объедения.  Таким образом, достаточно будет посчитать расстояния только между всеми одноэлементными кластерами (первый этап), а затем пересчитывать расстояния при их объединении через \n",
    "формулы Ланса-Вильямса. \n",
    "\n",
    "Общая  формула выглядит так:\n",
    "$$ d(C_i \\cup C_j, C_k) = a_i \\cdot d(C_i, C_k) + a_j \\cdot d(C_j, C_k) + b \\cdot d(C_i, C_j) + c \\cdot |d(C_i, C_k) - d(C_j, C_k)|$$\n",
    "\n",
    "Можно показать, что все относительно разумные кластерные расстояния можно описать данной формулой. \n",
    "\n",
    "Для интересущих нас linkage:\n",
    "\n",
    "* single-linkage       $a_i = \\frac{1}{2}, a_j =  \\frac{1}{2}, b = 0, c =  - \\frac{1}{2} $\n",
    "\n",
    "* complete-linkage     $a_i = \\frac{1}{2}, a_j =  \\frac{1}{2}, b = 0, c =   \\frac{1}{2} $\n",
    "\n",
    "* average-linkage       $a_i = \\frac{|C_i|}{|C_i \\cup C_j|}, a_j =  \\frac{|C_j|}{|C_i \\cup C_j|}, b = 0, c = 0 $\n",
    "\n"
   ]
  },
  {
   "cell_type": "markdown",
   "metadata": {},
   "source": [
    "# Теоретические вопросы (2 балла)\n",
    "В этой части Вам будут предложены теоретичские вопросы и задачи по теме. Вы, конечно, можете списать их у своего товарища или найти решение в интернете, но учтите, что они обязательно войдут в теоретический коллоквиум. Лучше разобраться в теме сейчас и успешно ответить на коллоквиуме, чем списать, не разобравшись в материале, и быть терзаемым совестью. \n",
    "\n",
    "\n",
    "Формулы надо оформлять в формате **LaTeX**."
   ]
  },
  {
   "cell_type": "markdown",
   "metadata": {},
   "source": [
    "Задача 1. Сходимость kmeans.\n",
    "\n",
    "Метод kmeans является частным случаем EM алгоритма и наиболее простым в обосновании сходимости. Докажите, что kmeans всегда сходится, и итераций не будет превышать $k^N$, где $k$ $-$ число кластеров, $N$ $-$ число объектов\n",
    "\n",
    "Подсказка: Вам стоит рассмотреть функционал, который минимизирует алгоритм, и подумать, как он изменяется на E шаге и на M шаге.\n",
    "\n"
   ]
  },
  {
   "cell_type": "markdown",
   "metadata": {},
   "source": [
    "Оба шага не увеличивают функционал, причем число всевозможных способов разбить N объектов на k кластеров ограничено => алгоритм сходится"
   ]
  },
  {
   "cell_type": "markdown",
   "metadata": {},
   "source": [
    "Задача 2. Сходимость EM.\n",
    "\n",
    "Разобравшись со сходимостью kmeans, можно догадаться и до ответа про EM алгоритм.\n",
    "\n",
    "При каком условии на правдоподобие системы EM алгоритм будет  сходиться?\n",
    "\n"
   ]
  },
  {
   "cell_type": "markdown",
   "metadata": {},
   "source": [
    "ЕМ так же на каждом шаге не уменьшает правдоподобие => если оно непрерывно (и ММП применим), алгоритм сойдётся"
   ]
  },
  {
   "cell_type": "markdown",
   "metadata": {},
   "source": [
    "Задача 3. Формулы Ланса-Вильямса.\n",
    "\n",
    "Формулы Ланса-Вильямса крайне удобны для быстрого пересчта расстояний в агломеративной кластеризации. Давайте докажем  формулы для single и complete linkage. \n",
    "\n",
    "Докажите, что:\n",
    "\n",
    "$d_{\\min}(U \\cup V, S) = \\frac{1}{2} d_{\\min}(U, S) + \\frac{1}{2} d_{\\min}(V, S)  - \\frac{1}{2} | d_{\\min}(U, S) - d_{\\min}(V, S) |  $\n",
    "\n",
    "\n",
    "$d_{\\max}(U \\cup V, S) = \\frac{1}{2} d_{\\max}(U, S) + \\frac{1}{2} d_{\\max}(V, S)  + \\frac{1}{2} | d_{\\max}(U, S) - d_{\\max}(V, S) |  $\n",
    "\n",
    "\n"
   ]
  },
  {
   "cell_type": "markdown",
   "metadata": {},
   "source": [
    "$ \\frac{1}{2} d_{\\min}(U, S) + \\frac{1}{2} d_{\\min}(V, S)  $ - среднее между минимальными расстояниями, а нужен минимум от минимумов => вычтем разницу и получим то, что ищем.\n",
    "\n",
    "Аналогично, нужен максимум от максимумов => разницу нужно добавить."
   ]
  },
  {
   "cell_type": "markdown",
   "metadata": {},
   "source": [
    "# Реализация алгоритма кластеризации  (5 баллов)"
   ]
  },
  {
   "cell_type": "markdown",
   "metadata": {},
   "source": [
    "Алгоритм кластеризации должен удовлетворять следующему интерфейсу. Конструктор принимает набор параметров, необходимых для работы алгоритма кластеризации. Метод `fit` подсчитывает параметры модели и возвращает `self`. Метод `predict` возвращает вектор с индексами кластеров для поданных в него объектов `x`. "
   ]
  },
  {
   "cell_type": "code",
   "execution_count": 2,
   "metadata": {},
   "outputs": [],
   "source": [
    "from sklearn.base import BaseEstimator, ClusterMixin\n",
    "\n",
    "\n",
    "class Clustering(BaseEstimator, ClusterMixin):\n",
    "    \"\"\"\n",
    "    Implement clustering algorithm according \n",
    "    \"\"\"\n",
    "    \n",
    "    def __init__(self, metric, linkage='single', n_clusters=2, **kwargs):\n",
    "        \"\"\"\n",
    "        metric - string with name of metric, for example, euclidean\n",
    "        Please add necessary algoritm parameters to class constructor.\n",
    "        \"\"\"\n",
    "        self.metric = metric\n",
    "        if linkage != 'single' and linkage != 'complete' and linkage != 'average':\n",
    "            raise RuntimeError\n",
    "        self.linkage = linkage\n",
    "        self.n_clusters = n_clusters\n",
    "        return\n",
    "\n",
    "    def fit_predict(self, x):\n",
    "        \"\"\"\n",
    "        Use data matrix x to compute model parameters and predict clusters\n",
    "        \"\"\"\n",
    "        self.inter = np.max(x[:, 0])-np.min(x[:, 0])\n",
    "        dist = scipy.spatial.distance.cdist(x, x, metric=self.metric)\n",
    "        dist[dist == 0.] = np.inf\n",
    "        self.first_step_dist = copy(dist[0])\n",
    "        self.first_step_dist[0] = 0\n",
    "        self.x_len = len(x)\n",
    "        ans = np.array(np.arange(self.x_len))\n",
    "        self.draw = []\n",
    "        counter = 1\n",
    "        counter += 1\n",
    "        indexes = np.array(np.arange(self.x_len))\n",
    "        if self.linkage == 'average':\n",
    "            while dist.shape[0] > self.n_clusters:\n",
    "                ind = np.unravel_index(np.argmin(dist), dist.shape)\n",
    "                self.draw.append((ind, dist[ind]))\n",
    "                for i in range(dist.shape[0]):\n",
    "                    dist[i, i] = 0\n",
    "                cl0 = ans[indexes[ind[0]]]\n",
    "                cl1 = ans[indexes[ind[1]]]\n",
    "                pow1 = np.sum(ans[ans == cl0])\n",
    "                pow2 = np.sum(ans[ans == cl1])\n",
    "                Ai = pow1/(pow1+pow2)\n",
    "                Aj = 1-Ai\n",
    "                dist[:,ind[0]] = Ai*dist[:,ind[0]] + Aj*dist[:,ind[1]]\n",
    "                dist[ind[0], :] = dist[:, ind[0]]\n",
    "                ans[ans == cl1] = cl0\n",
    "                counter += 1\n",
    "                dist = np.delete(dist, ind[1], axis=1)\n",
    "                dist = np.delete(dist, ind[1], axis=0)\n",
    "                indexes = np.delete(indexes, ind[1])\n",
    "                for i in range(dist.shape[0]):\n",
    "                    dist[i, i] = np.inf\n",
    "            return ans\n",
    "            \n",
    "        if self.linkage == 'single':\n",
    "            Ai = 0.5\n",
    "            Aj = 0.5\n",
    "            C = -0.5\n",
    "        elif self.linkage == 'complete':\n",
    "            Ai = 0.5\n",
    "            Aj = 0.5\n",
    "            C = 0.5\n",
    "        while dist.shape[0] > self.n_clusters:\n",
    "            ind = np.unravel_index(np.argmin(dist), dist.shape)\n",
    "            self.draw.append((ind, dist[ind]))\n",
    "            for i in range(dist.shape[0]):\n",
    "                dist[i, i] = 0\n",
    "            dist[:,ind[0]] = Ai*dist[:,ind[0]] + Aj*dist[:,ind[1]]\n",
    "            + C * np.abs(dist[:,ind[0]] - dist[:,ind[1]])\n",
    "            dist[ind[0], :] = dist[:, ind[0]]\n",
    "            cl0 = ans[indexes[ind[0]]]\n",
    "            cl1 = ans[indexes[ind[1]]]\n",
    "            ans[ans == cl1] = cl0\n",
    "            counter += 1\n",
    "            dist = np.delete(dist, ind[1], axis=1)\n",
    "            dist = np.delete(dist, ind[1], axis=0)\n",
    "            indexes = np.delete(indexes, ind[1])\n",
    "            for i in range(dist.shape[0]):\n",
    "                dist[i, i] = np.inf\n",
    "        return ans\n",
    "    \n",
    "    def plot_dendrogram(self):\n",
    "        \"\"\"\n",
    "        Try to visualize our data\n",
    "        \"\"\"\n",
    "        cls = numpy.argsort(self.first_step_dist)\n",
    "        coords = {i: (self.first_step_dist[i], 0) for i in cls}\n",
    "        plt.figure(figsize=(25, 25))\n",
    "        for i in self.draw:\n",
    "            ind1 = i[0][0]\n",
    "            ind2 = i[0][1]\n",
    "            dist = i[1]\n",
    "            x = [coords[ind1][0], coords[ind1][0]]\n",
    "            y = [coords[ind1][1], dist]\n",
    "            plt.plot(x, y, color='red')\n",
    "            \n",
    "            x = [coords[ind2][0], coords[ind2][0]]\n",
    "            y = [coords[ind2][1], dist]\n",
    "            plt.plot(x, y, color='red')\n",
    "            \n",
    "            x = [coords[ind1][0], coords[ind2][0]]\n",
    "            y = [dist, dist]\n",
    "            plt.plot(x, y, color='red')\n",
    "            \n",
    "            newx = (coords[ind1][0] + coords[ind2][0]) / 2\n",
    "            newy = dist\n",
    "            coords[ind1] = copy((newx, newy))\n",
    "            coords[ind2] = copy((newx, newy))"
   ]
  },
  {
   "cell_type": "markdown",
   "metadata": {},
   "source": [
    "Сначала проверим реализованный алгоритм кластеризации на классическом наборе данных [Iris](http://www.wikiwand.com/en/Iris_flower_data_set). Загрузим данные (они включены в библиотеку sklearn) и посмотрим на то, как они выглядят в двух проекциях (для простоты используем 2 класса из 3)."
   ]
  },
  {
   "cell_type": "code",
   "execution_count": 3,
   "metadata": {},
   "outputs": [
    {
     "data": {
      "image/png": "[encoded data removed]",
      "text/plain": [
       "<Figure size 720x360 with 2 Axes>"
      ]
     },
     "metadata": {
      "needs_background": "light"
     },
     "output_type": "display_data"
    }
   ],
   "source": [
    "iris = ds.load_iris()\n",
    "x_iris = iris.data[:100]\n",
    "y_iris = iris.target[:100]\n",
    "\n",
    "pl.figure(figsize=(10, 5))\n",
    "\n",
    "pl.subplot(1, 2, 1)\n",
    "pl.scatter(x_iris[:, 0], x_iris[:, 1], c=y_iris, cmap=pl.cm.PuOr, lw=0, s=30)\n",
    "plt.xlabel('Sepal length')\n",
    "plt.ylabel('Sepal width')\n",
    "\n",
    "pl.subplot(1, 2, 2)\n",
    "pl.scatter(x_iris[:, 2], x_iris[:, 3], c=y_iris, cmap=pl.cm.PuOr, lw=0, s=30)\n",
    "plt.xlabel('Petal length')\n",
    "plt.ylabel('Petal width')\n",
    "pl.show()"
   ]
  },
  {
   "cell_type": "markdown",
   "metadata": {},
   "source": [
    "Видно, что классы разделяются, поэтому можно надеяться, что наш алгоритм \"найдет\" кластеры, соответствующие исходным классам. Результат работы реализованного алгоритма кластеризации предлагается сравнить с эталонной кластеризацией. Для этого предлагается изучить метрику ([adjusted rand score](http://scikit-learn.org/stable/modules/generated/sklearn.metrics.adjusted_rand_score.html)). В случае если значение этой метрики отличается от 1, предлагается поработать над улучшением реализации своего алгоритма."
   ]
  },
  {
   "cell_type": "code",
   "execution_count": 4,
   "metadata": {},
   "outputs": [
    {
     "name": "stdout",
     "output_type": "stream",
     "text": [
      " Sklearn AGGL score 1.0. Sklearn AGGL time 0.01667952537536621\n"
     ]
    }
   ],
   "source": [
    "# Давайте проверим, как справляются sklearn реализации\n",
    "sklearn_aggl = AgglomerativeClustering(n_clusters=2)\n",
    "aggl_t0 = time.time()\n",
    "aggl_pred = sklearn_aggl.fit_predict(x_iris)\n",
    "aggl_diff = time.time() - aggl_t0\n",
    "aggl_score = smt.adjusted_rand_score(y_iris, aggl_pred)\n",
    "print (\" Sklearn AGGL score {}. Sklearn AGGL time {}\".format(aggl_score, aggl_diff))"
   ]
  },
  {
   "cell_type": "code",
   "execution_count": 5,
   "metadata": {},
   "outputs": [
    {
     "name": "stdout",
     "output_type": "stream",
     "text": [
      "Our AGGL score 1.0. Our AGGL time 0.017142534255981445\n"
     ]
    }
   ],
   "source": [
    "# Здесь предскажем кластера, посчитаем метрику кластеризации и время работы, сравним со склерном\n",
    "сustum_aggl = Clustering(metric='euclidean', linkage='average')\n",
    "aggl_t0 = time.time()\n",
    "aggl_pred = сustum_aggl.fit_predict(x_iris)\n",
    "aggl_diff = time.time() - aggl_t0\n",
    "aggl_score = smt.adjusted_rand_score(y_iris, aggl_pred)\n",
    "print (\"Our AGGL score {}. Our AGGL time {}\".format(aggl_score, aggl_diff))"
   ]
  },
  {
   "cell_type": "code",
   "execution_count": 6,
   "metadata": {},
   "outputs": [
    {
     "name": "stdout",
     "output_type": "stream",
     "text": [
      "CPU times: user 507 ms, sys: 10 ms, total: 517 ms\n",
      "Wall time: 516 ms\n"
     ]
    },
    {
     "data": {
      "image/png": "[encoded data removed]",
      "text/plain": [
       "<Figure size 1800x1800 with 1 Axes>"
      ]
     },
     "metadata": {
      "needs_background": "light"
     },
     "output_type": "display_data"
    }
   ],
   "source": [
    "%time сustum_aggl.plot_dendrogram()"
   ]
  },
  {
   "cell_type": "markdown",
   "metadata": {},
   "source": [
    "Такой рисунок связан с тем, что я упорядочил объекты по расстоянию от первого, но это не гарантирует, что попарное расстояние между ближайшими в таком примере минимально\n",
    "\n",
    "Лучше не успел придумать"
   ]
  },
  {
   "cell_type": "markdown",
   "metadata": {
    "collapsed": true
   },
   "source": [
    "# Боевое применение (3  балла)\n"
   ]
  },
  {
   "cell_type": "markdown",
   "metadata": {
    "collapsed": true
   },
   "source": [
    "Алгоритмы кластеризации прекрасны тем, что они позволяют быстро понять, как устроены наши данные. Давайте применим Ваш алгоритм для нашего конкурса!"
   ]
  },
  {
   "cell_type": "markdown",
   "metadata": {},
   "source": [
    "Будем рассматривать каждую группу независимо от других групп. На каждой группе применим наш алгоритм и отрисуем денденограмму. По результатам кластерного анализа, Вам нужно ответить на следующие вопросы:\n",
    "\n",
    "1) Можно ли по дендонаграмме (или по другим результатам кластеризации) сказать, где в группе аномалии? Каким образом?\n",
    "\n",
    "2) Какое расстояние лучше использовать между заголовками страниц для кластеризации? Как еще учесть другую информацию о странице в расстоянии?\n",
    "\n",
    "2) Какое качество f1_score Вы смогли получить на обучающем множестве методами кластеризации? (валидацию можете не делать, если таргет не используете)\n",
    "\n",
    "4) Как можно результат кластеризации затем использовать для  финальной модели обучения с учителем?"
   ]
  },
  {
   "cell_type": "markdown",
   "metadata": {},
   "source": [
    "Подсказка: самое важное - выбрать расстояние между заголовками. Самый простой вариант:  процент различных слов в двух заголовках. В семинаре мы рассматривали более сложный вариант, но Вы сможете придумать лучше. "
   ]
  },
  {
   "cell_type": "code",
   "execution_count": 7,
   "metadata": {},
   "outputs": [
    {
     "name": "stdout",
     "output_type": "stream",
     "text": [
      "28026\n"
     ]
    }
   ],
   "source": [
    "doc_to_title = {}\n",
    "with open('docs_titles.tsv') as f:\n",
    "    for num_line, line in enumerate(f):\n",
    "        if num_line == 0:\n",
    "            continue\n",
    "        data = line.strip().split('\\t', 1)\n",
    "        doc_id = int(data[0])\n",
    "        if len(data) == 1:\n",
    "            title = ''\n",
    "        else:\n",
    "            title = data[1]\n",
    "        doc_to_title[doc_id] = title\n",
    "print(len(doc_to_title))"
   ]
  },
  {
   "cell_type": "code",
   "execution_count": 8,
   "metadata": {},
   "outputs": [],
   "source": [
    "train_data = pd.read_csv('train_groups.csv')\n",
    "traingroups_titledata = {}\n",
    "for i in range(len(train_data)):\n",
    "    new_doc = train_data.iloc[i]\n",
    "    doc_group = new_doc['group_id']\n",
    "    doc_id = new_doc['doc_id']\n",
    "    target = new_doc['target']\n",
    "    title = doc_to_title[doc_id]\n",
    "    if doc_group not in traingroups_titledata:\n",
    "        traingroups_titledata[doc_group] = []\n",
    "    traingroups_titledata[doc_group].append((doc_id, title, target))"
   ]
  },
  {
   "cell_type": "code",
   "execution_count": 9,
   "metadata": {},
   "outputs": [],
   "source": [
    "\n",
    "\n",
    "import numpy as np\n",
    "y_train = []\n",
    "X_train = []\n",
    "groups_train = []\n",
    "for new_group in traingroups_titledata:\n",
    "    docs = traingroups_titledata[new_group]\n",
    "    for k, (doc_id, title, target_id) in enumerate(docs):\n",
    "        y_train.append(target_id)\n",
    "        groups_train.append(new_group)\n",
    "        all_dist = []\n",
    "        words = set(title.strip().split())\n",
    "        for j in range(0, len(docs)):\n",
    "            if k == j:\n",
    "                continue\n",
    "            doc_id_j, title_j, target_j = docs[j]\n",
    "            words_j = set(title_j.strip().split())\n",
    "            all_dist.append(len(words.intersection(words_j)))\n",
    "        X_train.append(sorted(all_dist, reverse=True)[0:15])\n",
    "X = np.array(X_train)\n",
    "y = np.array(y_train)\n",
    "groups_train = np.array(groups_train)\n",
    "\n"
   ]
  },
  {
   "cell_type": "code",
   "execution_count": 10,
   "metadata": {},
   "outputs": [
    {
     "name": "stderr",
     "output_type": "stream",
     "text": [
      "/home/ilya/anaconda3/lib/python3.7/site-packages/sklearn/utils/validation.py:595: DataConversionWarning: Data with input dtype int64 was converted to float64 by StandardScaler.\n",
      "  warnings.warn(msg, DataConversionWarning)\n",
      "/home/ilya/anaconda3/lib/python3.7/site-packages/sklearn/utils/validation.py:595: DataConversionWarning: Data with input dtype int64 was converted to float64 by StandardScaler.\n",
      "  warnings.warn(msg, DataConversionWarning)\n"
     ]
    }
   ],
   "source": [
    "from sklearn.manifold import TSNE\n",
    "from sklearn.preprocessing import StandardScaler\n",
    "\n",
    "scaler = StandardScaler()\n",
    "X_scaled = scaler.fit_transform(X)"
   ]
  },
  {
   "cell_type": "code",
   "execution_count": 11,
   "metadata": {},
   "outputs": [
    {
     "name": "stdout",
     "output_type": "stream",
     "text": [
      "CPU times: user 4min 7s, sys: 164 ms, total: 4min 7s\n",
      "Wall time: 2min 6s\n"
     ]
    }
   ],
   "source": [
    "%%time\n",
    "tsne = TSNE(random_state=17)\n",
    "tsne_representation = tsne.fit_transform(X_scaled)"
   ]
  },
  {
   "cell_type": "code",
   "execution_count": 12,
   "metadata": {},
   "outputs": [
    {
     "data": {
      "image/png": "[encoded data removed]",
      "text/plain": [
       "<Figure size 432x288 with 1 Axes>"
      ]
     },
     "metadata": {
      "needs_background": "light"
     },
     "output_type": "display_data"
    }
   ],
   "source": [
    "plt.scatter(tsne_representation[:, 0], tsne_representation[:, 1], c=y, alpha = 0.3);"
   ]
  },
  {
   "cell_type": "code",
   "execution_count": 13,
   "metadata": {},
   "outputs": [
    {
     "name": "stderr",
     "output_type": "stream",
     "text": [
      "/home/ilya/anaconda3/lib/python3.7/site-packages/sklearn/utils/validation.py:595: DataConversionWarning: Data with input dtype int64 was converted to float64 by StandardScaler.\n",
      "  warnings.warn(msg, DataConversionWarning)\n",
      "/home/ilya/anaconda3/lib/python3.7/site-packages/sklearn/utils/validation.py:595: DataConversionWarning: Data with input dtype int64 was converted to float64 by StandardScaler.\n",
      "  warnings.warn(msg, DataConversionWarning)\n"
     ]
    },
    {
     "name": "stdout",
     "output_type": "stream",
     "text": [
      "CPU times: user 736 ms, sys: 176 ms, total: 912 ms\n",
      "Wall time: 708 ms\n"
     ]
    }
   ],
   "source": [
    "%%time\n",
    "X1_scaled = scaler.fit_transform(X[groups_train == 1])\n",
    "tsne = TSNE(random_state=17)\n",
    "tsne_representation = tsne.fit_transform(X1_scaled)"
   ]
  },
  {
   "cell_type": "code",
   "execution_count": 14,
   "metadata": {},
   "outputs": [
    {
     "data": {
      "image/png": "[encoded data removed]",
      "text/plain": [
       "<Figure size 432x288 with 1 Axes>"
      ]
     },
     "metadata": {
      "needs_background": "light"
     },
     "output_type": "display_data"
    }
   ],
   "source": [
    "plt.scatter(tsne_representation[:, 0], tsne_representation[:, 1], c=y[groups_train == 1], alpha = 1);"
   ]
  },
  {
   "cell_type": "code",
   "execution_count": 15,
   "metadata": {},
   "outputs": [
    {
     "name": "stderr",
     "output_type": "stream",
     "text": [
      "/home/ilya/anaconda3/lib/python3.7/site-packages/sklearn/utils/validation.py:595: DataConversionWarning: Data with input dtype int64 was converted to float64 by StandardScaler.\n",
      "  warnings.warn(msg, DataConversionWarning)\n",
      "/home/ilya/anaconda3/lib/python3.7/site-packages/sklearn/utils/validation.py:595: DataConversionWarning: Data with input dtype int64 was converted to float64 by StandardScaler.\n",
      "  warnings.warn(msg, DataConversionWarning)\n"
     ]
    },
    {
     "name": "stdout",
     "output_type": "stream",
     "text": [
      "CPU times: user 813 ms, sys: 172 ms, total: 985 ms\n",
      "Wall time: 755 ms\n"
     ]
    },
    {
     "data": {
      "image/png": "[encoded data removed]",
      "text/plain": [
       "<Figure size 432x288 with 1 Axes>"
      ]
     },
     "metadata": {
      "needs_background": "light"
     },
     "output_type": "display_data"
    }
   ],
   "source": [
    "%%time\n",
    "X5_scaled = scaler.fit_transform(X[groups_train == 5])\n",
    "tsne = TSNE(random_state=17)\n",
    "tsne_representation = tsne.fit_transform(X5_scaled)\n",
    "plt.scatter(tsne_representation[:, 0], tsne_representation[:, 1], c=y[groups_train == 5], alpha = 1);"
   ]
  },
  {
   "cell_type": "markdown",
   "metadata": {},
   "source": [
    "Так себе рисунок, не внушает особо оптимизма в приминении кластеризации, нужны принципиально другие фичи"
   ]
  },
  {
   "cell_type": "markdown",
   "metadata": {},
   "source": [
    "Кластеризацию проводите в каждой группе отдельно, то есть изучайте, можно ли в группе  найти подкластер выбросов\n",
    "\n",
    "Документы можно представлять например словами из тайтла\n",
    "\n",
    "Главное подобрать хорошую функцию расстояния между документами\n",
    "\n",
    "Удачи! Все получится!"
   ]
  },
  {
   "cell_type": "markdown",
   "metadata": {},
   "source": [
    "Замечание: в кластеризации можно использовать все данные, то есть трейн + тест, чтобы находить больше закономерностей "
   ]
  },
  {
   "cell_type": "code",
   "execution_count": 16,
   "metadata": {},
   "outputs": [
    {
     "name": "stdout",
     "output_type": "stream",
     "text": [
      "euclidean\n"
     ]
    },
    {
     "name": "stderr",
     "output_type": "stream",
     "text": [
      "/home/ilya/anaconda3/lib/python3.7/site-packages/ipykernel_launcher.py:48: RuntimeWarning: invalid value encountered in multiply\n"
     ]
    },
    {
     "name": "stdout",
     "output_type": "stream",
     "text": [
      "cityblock\n"
     ]
    },
    {
     "name": "stderr",
     "output_type": "stream",
     "text": [
      "/home/ilya/anaconda3/lib/python3.7/site-packages/ipykernel_launcher.py:46: RuntimeWarning: invalid value encountered in long_scalars\n"
     ]
    },
    {
     "name": "stdout",
     "output_type": "stream",
     "text": [
      "seuclidean\n",
      "sqeuclidean\n",
      "cosine\n",
      "correlation\n",
      "hamming\n",
      "jaccard\n",
      "chebyshev\n",
      "canberra\n",
      "braycurtis\n",
      "mahalanobis\n",
      "yule\n",
      "dice\n",
      "kulsinski\n",
      "rogerstanimoto\n",
      "russellrao\n",
      "sokalmichener\n",
      "sokalsneath\n"
     ]
    }
   ],
   "source": [
    "Xt = []\n",
    "yt = []\n",
    "for i in range(1, 10):\n",
    "  #  print(i)\n",
    "    Xt.append(X[groups_train == i])\n",
    "    yt.append(y[groups_train == i])\n",
    "l = []\n",
    "for m in ['euclidean', 'cityblock', 'seuclidean', 'sqeuclidean',\n",
    "          'cosine', 'correlation', 'hamming', 'jaccard',\n",
    "          'chebyshev', 'canberra', 'braycurtis', \n",
    "          'mahalanobis', 'yule', 'dice', 'kulsinski', 'rogerstanimoto',\n",
    "          'russellrao', 'sokalmichener', 'sokalsneath'\n",
    "         ]:\n",
    "    print(m)\n",
    "    for n in range(2, 15):\n",
    "        try:\n",
    "            for i in range(1, 9):\n",
    "                сustum_aggl = Clustering(metric=m, linkage='average', n_clusters=n)\n",
    "                aggl_pred = сustum_aggl.fit_predict(Xt[i])\n",
    "                bc = np.bincount(aggl_pred)\n",
    "                a = bc.argmax()\n",
    "                aggl_pred[aggl_pred != aggl_pred[a]] = -1\n",
    "                aggl_pred[aggl_pred != -1] = 0\n",
    "                aggl_pred[aggl_pred == -1] = 1\n",
    "                aggl_score += smt.adjusted_rand_score(yt[i], aggl_pred)\n",
    "                fscore += f1_score(yt[i], aggl_pred)\n",
    "        except:\n",
    "            fscore = 0\n",
    "            aggl_score = 0\n",
    "        fscore /= 8\n",
    "        aggl_score /= 8\n",
    "        l.append({'metric': m, 'n_clusters': n, 'agscore': aggl_score, 'score': fscore})#, 'th': th, 'score': scores[th]})"
   ]
  },
  {
   "cell_type": "code",
   "execution_count": 17,
   "metadata": {},
   "outputs": [
    {
     "data": {
      "text/plain": [
       "[{'metric': 'seuclidean',\n",
       "  'n_clusters': 12,\n",
       "  'agscore': 0.057276501072437,\n",
       "  'score': 0.4435718454569651},\n",
       " {'metric': 'seuclidean',\n",
       "  'n_clusters': 11,\n",
       "  'agscore': 0.06886528562241556,\n",
       "  'score': 0.4434369897703186},\n",
       " {'metric': 'seuclidean',\n",
       "  'n_clusters': 13,\n",
       "  'agscore': 0.051151113623270926,\n",
       "  'score': 0.4399066802620541}]"
      ]
     },
     "execution_count": 17,
     "metadata": {},
     "output_type": "execute_result"
    }
   ],
   "source": [
    "def mykey(set):\n",
    "    return (set['score'])\n",
    "a = sorted(l, key=mykey, reverse=True)\n",
    "a[:3]"
   ]
  },
  {
   "cell_type": "markdown",
   "metadata": {
    "collapsed": true
   },
   "source": [
    "Если получилось найти выбросы с помощью кластеризации, то не забывайте использовать его в финальном решении. Помните - использование различных подходов к решению задачи всегда улучшает финального качество."
   ]
  },
  {
   "cell_type": "markdown",
   "metadata": {},
   "source": [
    "# Контрольные вопросы\n",
    "Постарайтесь максимально развернуто и честно ответить на вопросы. Они охватывают тему алгоритмов кластеризации и скорее нужны преподавателям, чтобы понимать, что именно Вы усвоили плохо. Надеюсь, они подскажут, что именно в теме Вы не понимаете или наоборот порадают, что Вы все знаете ^_^"
   ]
  },
  {
   "cell_type": "markdown",
   "metadata": {},
   "source": [
    "* Опишите, пожалуйста, для каких прикладных задач Вы бы стали использовать методы кластеризации?"
   ]
  },
  {
   "cell_type": "markdown",
   "metadata": {},
   "source": [
    "Поиск аномалий (если фичи нормальные)"
   ]
  },
  {
   "cell_type": "markdown",
   "metadata": {},
   "source": [
    "* Какие преимущества и недостатки Вы видите у следуюших алгоритмов кластеризации: kmeans, dbscan, агломеративная кластеризация?"
   ]
  },
  {
   "cell_type": "markdown",
   "metadata": {},
   "source": [
    "kmeans - простой и интуитивно понятный, но сходится к локальному минимуму, требует заранее известное число кластеров, \n",
    "не найдет кластера сложной формы (на 1 лекции была картинка с кластерами - окружностями)\n",
    "dbscan - не требует знания числа кластеров, находит любые формы, но предполагает одинаковую плотность\n",
    "агломеративная кластеризация - удобное графическое представление и быстрая работа"
   ]
  },
  {
   "cell_type": "markdown",
   "metadata": {},
   "source": [
    "* На лекции было показано, что EM алгоритм находит оценку максимального правдоподобия в задаче со сккрытыми переменными. Из курса мат. статистики Вы можете знать, оценка максимального правдоподобия \"оптимальная\" во многих смыслах. В каких же случаях тогда не следует применять метод максимального правдоподобия?"
   ]
  },
  {
   "cell_type": "markdown",
   "metadata": {},
   "source": [
    "В случаях, когда функция правдоподобия разрывна"
   ]
  },
  {
   "cell_type": "markdown",
   "metadata": {},
   "source": [
    "* Представьте, что у Вас есть набор текстовых документов, и Вы хотите разбить эти документы на тематики - новости, спорт, кулинария, кино и так далее. Размеченной выборки у Вас нет, только сами тексты документов. Какие алгоритмы и какие признаки Вы бы использовали для решения данной задачи?"
   ]
  },
  {
   "cell_type": "markdown",
   "metadata": {},
   "source": [
    "Разные алгоритмы и много разных призраков, перебирать как можно больше вариантов всяких функций расстояний между текстами после применения к ним лемматизации"
   ]
  },
  {
   "cell_type": "markdown",
   "metadata": {},
   "source": [
    "* Теперь представьте, что небольшая часть Ваших текстов была размечена людьми, но большая часть так и осталась без таргета. Смогли ли бы Вы использовать эти данные для улучения качества кластеризации? (эта задача называется semi-supervised learning)"
   ]
  },
  {
   "cell_type": "markdown",
   "metadata": {},
   "source": [
    "Можно попробовать построить генеративную модель, как обсуждалось на лекции"
   ]
  },
  {
   "cell_type": "markdown",
   "metadata": {},
   "source": [
    "Здесь Вы можете оставить отзыв о этой домашней работе или о всем курсе.   "
   ]
  },
  {
   "cell_type": "markdown",
   "metadata": {},
   "source": [
    "*** ВАШ ОТЗЫВ ЗДЕСЬ***"
   ]
  },
  {
   "cell_type": "code",
   "execution_count": null,
   "metadata": {
    "collapsed": true
   },
   "outputs": [],
   "source": []
  },
  {
   "cell_type": "code",
   "execution_count": null,
   "metadata": {
    "collapsed": true
   },
   "outputs": [],
   "source": []
  }
 ],
 "metadata": {
  "anaconda-cloud": {},
  "kernelspec": {
   "display_name": "Python 3",
   "language": "python",
   "name": "python3"
  },
  "language_info": {
   "codemirror_mode": {
    "name": "ipython",
    "version": 3
   },
   "file_extension": ".py",
   "mimetype": "text/x-python",
   "name": "python",
   "nbconvert_exporter": "python",
   "pygments_lexer": "ipython3",
   "version": "3.7.1"
  }
 },
 "nbformat": 4,
 "nbformat_minor": 1
}

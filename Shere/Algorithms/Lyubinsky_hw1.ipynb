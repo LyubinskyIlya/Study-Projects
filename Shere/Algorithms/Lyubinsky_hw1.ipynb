{
 "cells": [
  {
   "cell_type": "markdown",
   "metadata": {},
   "source": [
    "**Общая информация**\n",
    "\n",
    "**Срок сдачи:** 20 марта 2019, 06:00 <br\\>\n",
    "**Штраф за опоздание:** -1 балл после 06:00 20 марта, -2 балла после 06:00 27 марта, -3 балла после 06:00 3 апреля\n",
    "\n",
    "При отправлении ДЗ указывайте фамилию в названии файла\n",
    "Присылать ДЗ необходимо в виде ссылки на свой github репозиторий в slack @alkhamush\n",
    "\n",
    "Необходимо в slack скинуть ссылку в личный чат @alkhamush\n",
    "Пример ссылки:\n",
    "https://github.com/stroykova/spheremailru/stroykova_hw1.ipynb \n",
    "\n",
    "\n",
    "Используйте данный Ipython Notebook при оформлении домашнего задания."
   ]
  },
  {
   "cell_type": "markdown",
   "metadata": {},
   "source": [
    "###### Задание 1 (2 баллов)\n",
    "Реализовать KNN в классе MyKNeighborsClassifier (обязательное условие: точность не ниже sklearn реализации)\n",
    "Разберитесь самостоятельно, какая мера расстояния используется в KNeighborsClassifier дефолтно и реализуйте свой алгоритм именно с этой мерой. Самостоятельно разберитесь, как считается score из KNeighborsClassifier и реализуйте аналог в своём классе. Score не должен уступать значению KNN из sklearn\n",
    "\n",
    "###### Задание 2 (2 балла)\n",
    "Добиться скорости работы на fit,  predict и predict_proba сравнимой со sklearn для iris и mnist\n",
    "Для этого используем numpy\n",
    "\n",
    "###### Задание 3 (2 балла)\n",
    "Для iris найдите такой параметр n_neighbors, при котором выдаётся наилучший score. Нарисуйте график зависимости score от n_neighbors\n",
    "\n",
    "###### Задание 4 (3 балла)\n",
    "Добавить algorithm='kd_tree' в реализацию KNN (использовать KDTree из sklearn.neighbors). Значение n_neighbors нужно взять из задания 3. Добиться скорости работы на fit,  predict и predict_proba сравнимой со sklearn для iris и mnist\n",
    "Для этого используем numpy. Score не должен уступать значению KNN из sklearn\n",
    "\n",
    "###### Задание 5 (1 балла)\n",
    "Описать для чего нужны следующие библиотеки/классы/функции (список будет ниже)\n",
    "\n",
    "**Штрафные баллы:**\n",
    "\n",
    "1. Невыполнение PEP8 -1 балл\n",
    "2. Отсутствие фамилии в имени скрипта (скрипт должен называться по аналогии со stroykova_hw1.ipynb) -1 балл\n",
    "3. Все строчки должны быть выполнены. Нужно, чтобы output команды можно было увидеть уже в git'е. В противном случае -1 балл\n",
    "4. При оформлении ДЗ нужно пользоваться данным файлом в качестве шаблона. Не нужно удалять и видоизменять структуру кода и текст. В противном случае -1 балл\n"
   ]
  },
  {
   "cell_type": "code",
   "execution_count": 1,
   "metadata": {},
   "outputs": [],
   "source": [
    "import numpy as np\n",
    "import matplotlib.pyplot as plt\n",
    "\n",
    "import seaborn as sns\n",
    "from sklearn import datasets\n",
    "from sklearn.base import ClassifierMixin\n",
    "from sklearn.datasets import fetch_mldata\n",
    "from sklearn.datasets import fetch_openml\n",
    "from sklearn.neighbors import KDTree\n",
    "from sklearn.neighbors.base import NeighborsBase, KNeighborsMixin, SupervisedIntegerMixin \n",
    "from sklearn.model_selection import train_test_split\n",
    "from sklearn.metrics import pairwise_distances\n",
    "from sklearn.neighbors import KNeighborsClassifier\n",
    "%load_ext pycodestyle_magic"
   ]
  },
  {
   "cell_type": "code",
   "execution_count": 2,
   "metadata": {},
   "outputs": [],
   "source": [
    "#%%pycodestyle\n",
    "\n",
    "\n",
    "class MyKNeighborsClassifier(NeighborsBase, KNeighborsMixin,\n",
    "                             SupervisedIntegerMixin, ClassifierMixin):\n",
    "\n",
    "    def __init__(self, n_neighbors, algorithm='brute'):\n",
    "        self.n_neighbors = n_neighbors\n",
    "        self.algorithm = algorithm\n",
    "\n",
    "    def fit(self, X, y):\n",
    "        if self.algorithm == 'brute':\n",
    "            self.memoryX = X\n",
    "            self.memoryY = y\n",
    "            self.k = np.unique(y)\n",
    "            self.n = self.k.shape[0]\n",
    "        else:\n",
    "            self.tree = KDTree(X)\n",
    "            self.memoryY = y\n",
    "            self.k = np.unique(y)\n",
    "            self.n = self.k.shape[0]  # Число признаков\n",
    "\n",
    "    def predict(self, X):\n",
    "        if self.algorithm == 'brute':\n",
    "            dist = pairwise_distances(X, self.memoryX)\n",
    "            temp = np.argpartition(dist, self.n_neighbors)\n",
    "            temp = temp[:, :self.n_neighbors]\n",
    "            cls = self.memoryY[temp]  # Матрица классов ближайших соседей\n",
    "        else:\n",
    "            dist, ind = self.tree.query(X, k=self.n_neighbors)\n",
    "            cls = self.memoryY[ind]\n",
    "        ans = np.zeros((X.shape[0], self.n))\n",
    "        for i in range(self.n):\n",
    "            ans[:, i] = np.sum(cls == self.k[i], axis=1)\n",
    "        ans = np.argmax(ans, axis=1)\n",
    "        ans = self.k[ans]\n",
    "        return ans\n",
    "\n",
    "    def predict_proba(self, X):\n",
    "        if self.algorithm == 'brute':\n",
    "            dist = pairwise_distances(X, self.memoryX)\n",
    "            temp = np.argpartition(dist, self.n_neighbors)\n",
    "            temp = temp[:, :self.n_neighbors]\n",
    "            cls = self.memoryY[temp]\n",
    "        else:\n",
    "            dist, ind = self.tree.query(X, k=self.n_neighbors)\n",
    "            cls = self.memoryY[ind]\n",
    "        ans = np.zeros((X.shape[0], self.n))\n",
    "        for i in range(self.n):                           # Раз встречался\n",
    "            ans[:, i] = np.sum(cls == self.k[i], axis=1)  # каждый класс\n",
    "        return ans/self.n_neighbors\n",
    "\n",
    "    def score(self, X, y):\n",
    "        res = self.predict(X)\n",
    "        a = np.array([res == y])\n",
    "        return np.sum(a)/len(y)"
   ]
  },
  {
   "cell_type": "markdown",
   "metadata": {},
   "source": [
    "**IRIS**"
   ]
  },
  {
   "cell_type": "code",
   "execution_count": 3,
   "metadata": {},
   "outputs": [],
   "source": [
    "iris = datasets.load_iris()"
   ]
  },
  {
   "cell_type": "code",
   "execution_count": 4,
   "metadata": {},
   "outputs": [],
   "source": [
    "X_train, X_test, y_train, y_test = train_test_split(iris.data, iris.target, test_size=0.1, stratify=iris.target)"
   ]
  },
  {
   "cell_type": "code",
   "execution_count": 5,
   "metadata": {},
   "outputs": [],
   "source": [
    "clf = KNeighborsClassifier(n_neighbors=2, algorithm='brute')\n",
    "my_clf = MyKNeighborsClassifier(n_neighbors=2)"
   ]
  },
  {
   "cell_type": "code",
   "execution_count": 6,
   "metadata": {},
   "outputs": [
    {
     "name": "stdout",
     "output_type": "stream",
     "text": [
      "CPU times: user 874 µs, sys: 78 µs, total: 952 µs\n",
      "Wall time: 799 µs\n"
     ]
    },
    {
     "data": {
      "text/plain": [
       "KNeighborsClassifier(algorithm='brute', leaf_size=30, metric='minkowski',\n",
       "           metric_params=None, n_jobs=None, n_neighbors=2, p=2,\n",
       "           weights='uniform')"
      ]
     },
     "execution_count": 6,
     "metadata": {},
     "output_type": "execute_result"
    }
   ],
   "source": [
    "%time clf.fit(X_train, y_train)"
   ]
  },
  {
   "cell_type": "code",
   "execution_count": 7,
   "metadata": {},
   "outputs": [
    {
     "name": "stdout",
     "output_type": "stream",
     "text": [
      "CPU times: user 308 µs, sys: 27 µs, total: 335 µs\n",
      "Wall time: 272 µs\n"
     ]
    }
   ],
   "source": [
    "%time my_clf.fit(X_train, y_train)"
   ]
  },
  {
   "cell_type": "code",
   "execution_count": 8,
   "metadata": {},
   "outputs": [
    {
     "name": "stdout",
     "output_type": "stream",
     "text": [
      "CPU times: user 474 µs, sys: 3.72 ms, total: 4.19 ms\n",
      "Wall time: 26.5 ms\n"
     ]
    },
    {
     "data": {
      "text/plain": [
       "array([2, 2, 1, 2, 1, 0, 2, 0, 2, 0, 1, 0, 0, 2, 1])"
      ]
     },
     "execution_count": 8,
     "metadata": {},
     "output_type": "execute_result"
    }
   ],
   "source": [
    "%time clf.predict(X_test)"
   ]
  },
  {
   "cell_type": "code",
   "execution_count": 9,
   "metadata": {},
   "outputs": [
    {
     "name": "stdout",
     "output_type": "stream",
     "text": [
      "CPU times: user 1.58 ms, sys: 0 ns, total: 1.58 ms\n",
      "Wall time: 1.08 ms\n"
     ]
    },
    {
     "data": {
      "text/plain": [
       "array([2, 2, 1, 2, 1, 0, 2, 0, 2, 0, 1, 0, 0, 2, 1])"
      ]
     },
     "execution_count": 9,
     "metadata": {},
     "output_type": "execute_result"
    }
   ],
   "source": [
    "%time my_clf.predict(X_test)"
   ]
  },
  {
   "cell_type": "code",
   "execution_count": 10,
   "metadata": {},
   "outputs": [
    {
     "name": "stdout",
     "output_type": "stream",
     "text": [
      "CPU times: user 2.15 ms, sys: 0 ns, total: 2.15 ms\n",
      "Wall time: 2.51 ms\n"
     ]
    },
    {
     "data": {
      "text/plain": [
       "array([[0., 0., 1.],\n",
       "       [0., 0., 1.],\n",
       "       [0., 1., 0.],\n",
       "       [0., 0., 1.],\n",
       "       [0., 1., 0.],\n",
       "       [1., 0., 0.],\n",
       "       [0., 0., 1.],\n",
       "       [1., 0., 0.],\n",
       "       [0., 0., 1.],\n",
       "       [1., 0., 0.],\n",
       "       [0., 1., 0.],\n",
       "       [1., 0., 0.],\n",
       "       [1., 0., 0.],\n",
       "       [0., 0., 1.],\n",
       "       [0., 1., 0.]])"
      ]
     },
     "execution_count": 10,
     "metadata": {},
     "output_type": "execute_result"
    }
   ],
   "source": [
    "%time clf.predict_proba(X_test)"
   ]
  },
  {
   "cell_type": "code",
   "execution_count": 11,
   "metadata": {},
   "outputs": [
    {
     "name": "stdout",
     "output_type": "stream",
     "text": [
      "CPU times: user 1.16 ms, sys: 0 ns, total: 1.16 ms\n",
      "Wall time: 809 µs\n"
     ]
    },
    {
     "data": {
      "text/plain": [
       "array([[0., 0., 1.],\n",
       "       [0., 0., 1.],\n",
       "       [0., 1., 0.],\n",
       "       [0., 0., 1.],\n",
       "       [0., 1., 0.],\n",
       "       [1., 0., 0.],\n",
       "       [0., 0., 1.],\n",
       "       [1., 0., 0.],\n",
       "       [0., 0., 1.],\n",
       "       [1., 0., 0.],\n",
       "       [0., 1., 0.],\n",
       "       [1., 0., 0.],\n",
       "       [1., 0., 0.],\n",
       "       [0., 0., 1.],\n",
       "       [0., 1., 0.]])"
      ]
     },
     "execution_count": 11,
     "metadata": {},
     "output_type": "execute_result"
    }
   ],
   "source": [
    "%time my_clf.predict_proba(X_test)"
   ]
  },
  {
   "cell_type": "code",
   "execution_count": 12,
   "metadata": {},
   "outputs": [
    {
     "data": {
      "text/plain": [
       "0.9333333333333333"
      ]
     },
     "execution_count": 12,
     "metadata": {},
     "output_type": "execute_result"
    }
   ],
   "source": [
    "clf.score(X_test, y_test)"
   ]
  },
  {
   "cell_type": "code",
   "execution_count": 13,
   "metadata": {},
   "outputs": [
    {
     "data": {
      "text/plain": [
       "0.9333333333333333"
      ]
     },
     "execution_count": 13,
     "metadata": {},
     "output_type": "execute_result"
    }
   ],
   "source": [
    "my_clf.score(X_test, y_test)"
   ]
  },
  {
   "cell_type": "markdown",
   "metadata": {},
   "source": [
    "Задание 3"
   ]
  },
  {
   "cell_type": "code",
   "execution_count": 14,
   "metadata": {},
   "outputs": [
    {
     "name": "stdout",
     "output_type": "stream",
     "text": [
      "Max score: n_neighbors =  17\n",
      "Max score ==  0.982\n"
     ]
    },
    {
     "data": {
      "image/png": "[encoded data removed]",
      "text/plain": [
       "<Figure size 1008x576 with 1 Axes>"
      ]
     },
     "metadata": {},
     "output_type": "display_data"
    }
   ],
   "source": [
    "#%%pycodestyle\n",
    "score = np.zeros(40)\n",
    "for i in range(40):\n",
    "    clfs = []\n",
    "    clfs.append(MyKNeighborsClassifier(n_neighbors=i+1))\n",
    "    for j in range(100):\n",
    "        iris = datasets.load_iris()\n",
    "        X_train, X_test, y_train, y_test = train_test_split(iris.data,\n",
    "                                                            iris.target,\n",
    "                                                            test_size=0.1,\n",
    "                                                            stratify=iris.\n",
    "                                                            target,\n",
    "                                                            shuffle=True)\n",
    "        clfs[-1].fit(X_train, y_train)\n",
    "        score[i] += clfs[-1].score(X_test, y_test)\n",
    "    score[i] = score[i]/100\n",
    "opt_k = np.argmax(score)+1\n",
    "sns.set()\n",
    "fig = plt.figure(figsize=(14, 8))\n",
    "plt.plot(np.arange(1, 41), score, color='b')\n",
    "print('Max score: n_neighbors = ', opt_k)\n",
    "print('Max score == ', score[opt_k-1])"
   ]
  },
  {
   "cell_type": "markdown",
   "metadata": {},
   "source": [
    "**MNIST**"
   ]
  },
  {
   "cell_type": "code",
   "execution_count": 15,
   "metadata": {},
   "outputs": [],
   "source": [
    "mnist = fetch_openml('mnist_784')"
   ]
  },
  {
   "cell_type": "code",
   "execution_count": 16,
   "metadata": {},
   "outputs": [],
   "source": [
    "X_train, X_test, y_train, y_test = train_test_split(mnist.data, mnist.target, test_size=0.01, stratify=mnist.target)"
   ]
  },
  {
   "cell_type": "code",
   "execution_count": 17,
   "metadata": {},
   "outputs": [],
   "source": [
    "clf = KNeighborsClassifier(n_neighbors=2, algorithm='brute')\n",
    "my_clf = MyKNeighborsClassifier(n_neighbors=2)"
   ]
  },
  {
   "cell_type": "code",
   "execution_count": 18,
   "metadata": {},
   "outputs": [
    {
     "name": "stdout",
     "output_type": "stream",
     "text": [
      "CPU times: user 207 ms, sys: 0 ns, total: 207 ms\n",
      "Wall time: 205 ms\n"
     ]
    },
    {
     "data": {
      "text/plain": [
       "KNeighborsClassifier(algorithm='brute', leaf_size=30, metric='minkowski',\n",
       "           metric_params=None, n_jobs=None, n_neighbors=2, p=2,\n",
       "           weights='uniform')"
      ]
     },
     "execution_count": 18,
     "metadata": {},
     "output_type": "execute_result"
    }
   ],
   "source": [
    "%time clf.fit(X_train, y_train)"
   ]
  },
  {
   "cell_type": "code",
   "execution_count": 19,
   "metadata": {},
   "outputs": [
    {
     "name": "stdout",
     "output_type": "stream",
     "text": [
      "CPU times: user 78 ms, sys: 0 ns, total: 78 ms\n",
      "Wall time: 77.2 ms\n"
     ]
    }
   ],
   "source": [
    "%time my_clf.fit(X_train, y_train)"
   ]
  },
  {
   "cell_type": "code",
   "execution_count": 20,
   "metadata": {},
   "outputs": [
    {
     "name": "stdout",
     "output_type": "stream",
     "text": [
      "CPU times: user 3.37 s, sys: 280 ms, total: 3.65 s\n",
      "Wall time: 2.1 s\n"
     ]
    },
    {
     "data": {
      "text/plain": [
       "array(['7', '9', '6', '9', '8', '4', '1', '3', '8', '0', '1', '0', '8',\n",
       "       '5', '0', '7', '9', '6', '4', '3', '4', '0', '8', '4', '4', '0',\n",
       "       '6', '1', '4', '0', '0', '9', '9', '3', '1', '5', '0', '3', '0',\n",
       "       '1', '5', '6', '4', '3', '8', '3', '2', '9', '4', '3', '3', '2',\n",
       "       '7', '7', '2', '9', '8', '8', '7', '7', '0', '9', '4', '0', '8',\n",
       "       '2', '9', '8', '4', '8', '8', '7', '7', '2', '1', '6', '4', '5',\n",
       "       '5', '5', '8', '0', '7', '9', '0', '7', '9', '7', '1', '5', '9',\n",
       "       '0', '1', '0', '7', '9', '3', '2', '0', '4', '1', '6', '3', '1',\n",
       "       '0', '7', '5', '7', '8', '0', '9', '1', '3', '1', '4', '9', '0',\n",
       "       '4', '1', '7', '8', '2', '5', '4', '9', '1', '5', '2', '5', '3',\n",
       "       '5', '4', '9', '3', '7', '2', '4', '3', '8', '6', '0', '2', '4',\n",
       "       '6', '6', '6', '2', '3', '3', '8', '6', '8', '1', '7', '8', '2',\n",
       "       '2', '8', '5', '6', '7', '6', '9', '6', '7', '7', '1', '4', '3',\n",
       "       '6', '0', '9', '1', '7', '0', '5', '6', '0', '5', '0', '6', '0',\n",
       "       '7', '1', '1', '7', '5', '0', '0', '6', '6', '9', '3', '2', '5',\n",
       "       '9', '7', '0', '3', '2', '8', '4', '2', '4', '1', '4', '5', '5',\n",
       "       '0', '5', '8', '2', '2', '9', '0', '0', '5', '2', '4', '1', '1',\n",
       "       '5', '4', '9', '5', '0', '1', '7', '1', '3', '3', '3', '6', '7',\n",
       "       '1', '9', '5', '3', '8', '5', '6', '8', '0', '7', '6', '2', '1',\n",
       "       '7', '8', '6', '4', '3', '7', '5', '7', '0', '9', '1', '8', '7',\n",
       "       '1', '5', '2', '4', '3', '8', '1', '2', '3', '3', '7', '8', '7',\n",
       "       '9', '7', '3', '6', '1', '7', '4', '0', '1', '9', '2', '6', '2',\n",
       "       '8', '2', '5', '1', '6', '1', '1', '3', '2', '9', '3', '6', '7',\n",
       "       '6', '1', '1', '5', '9', '9', '3', '9', '5', '7', '0', '7', '8',\n",
       "       '1', '0', '1', '9', '4', '8', '5', '4', '4', '8', '8', '4', '1',\n",
       "       '2', '8', '4', '6', '2', '2', '7', '5', '4', '9', '8', '0', '8',\n",
       "       '3', '0', '7', '1', '8', '4', '3', '0', '7', '3', '4', '9', '4',\n",
       "       '4', '1', '3', '0', '1', '2', '6', '4', '6', '5', '6', '4', '1',\n",
       "       '5', '1', '9', '6', '5', '0', '3', '3', '1', '2', '8', '6', '5',\n",
       "       '5', '0', '9', '0', '3', '2', '2', '4', '8', '0', '9', '4', '6',\n",
       "       '3', '8', '2', '1', '0', '2', '9', '6', '0', '6', '2', '2', '0',\n",
       "       '9', '8', '1', '6', '7', '1', '5', '2', '7', '4', '9', '3', '9',\n",
       "       '3', '1', '0', '7', '3', '6', '6', '7', '9', '8', '9', '7', '8',\n",
       "       '3', '7', '1', '8', '4', '2', '9', '1', '4', '8', '4', '3', '4',\n",
       "       '8', '1', '2', '9', '0', '6', '8', '9', '1', '6', '2', '7', '0',\n",
       "       '5', '0', '4', '3', '3', '3', '2', '4', '7', '4', '0', '1', '6',\n",
       "       '0', '3', '7', '4', '3', '0', '8', '4', '0', '7', '1', '4', '0',\n",
       "       '4', '8', '3', '6', '8', '6', '7', '9', '2', '6', '9', '0', '8',\n",
       "       '1', '3', '0', '9', '0', '2', '1', '6', '1', '7', '6', '9', '7',\n",
       "       '5', '8', '7', '9', '0', '9', '1', '0', '1', '8', '6', '3', '6',\n",
       "       '8', '4', '7', '6', '2', '1', '0', '2', '3', '5', '0', '5', '4',\n",
       "       '1', '9', '6', '2', '0', '9', '5', '2', '7', '1', '7', '8', '1',\n",
       "       '5', '4', '6', '2', '2', '2', '2', '5', '9', '3', '9', '4', '2',\n",
       "       '9', '5', '6', '6', '2', '5', '1', '3', '1', '6', '7', '5', '6',\n",
       "       '9', '4', '2', '7', '6', '5', '1', '3', '2', '9', '3', '2', '3',\n",
       "       '5', '3', '5', '7', '5', '0', '4', '5', '3', '1', '5', '2', '2',\n",
       "       '1', '1', '9', '9', '3', '1', '4', '8', '4', '9', '0', '1', '8',\n",
       "       '8', '7', '9', '7', '2', '2', '6', '9', '5', '3', '7', '4', '8',\n",
       "       '4', '1', '4', '7', '9', '1', '2', '6', '3', '0', '9', '0', '8',\n",
       "       '1', '9', '8', '6', '9', '7', '1', '3', '1', '5', '5', '7', '3',\n",
       "       '1', '1', '3', '6', '3', '7', '7', '2', '1', '3', '7', '8', '7',\n",
       "       '7', '2', '1', '8', '3', '8', '3', '0', '3', '6', '1', '4', '7',\n",
       "       '6', '6', '8', '0', '6', '1', '7', '4', '0', '6', '4', '3', '7',\n",
       "       '2', '4', '7', '1', '6', '6', '6', '5', '4', '2', '9'],\n",
       "      dtype=object)"
      ]
     },
     "execution_count": 20,
     "metadata": {},
     "output_type": "execute_result"
    }
   ],
   "source": [
    "%time clf.predict(X_test)"
   ]
  },
  {
   "cell_type": "code",
   "execution_count": 21,
   "metadata": {},
   "outputs": [
    {
     "name": "stdout",
     "output_type": "stream",
     "text": [
      "CPU times: user 3.79 s, sys: 276 ms, total: 4.07 s\n",
      "Wall time: 2.26 s\n"
     ]
    },
    {
     "data": {
      "text/plain": [
       "array(['7', '9', '6', '9', '8', '4', '1', '3', '8', '0', '1', '0', '8',\n",
       "       '5', '0', '7', '9', '6', '4', '3', '4', '0', '8', '4', '4', '0',\n",
       "       '6', '1', '4', '0', '0', '9', '9', '3', '1', '5', '0', '3', '0',\n",
       "       '1', '5', '6', '4', '3', '8', '3', '2', '9', '4', '3', '3', '2',\n",
       "       '7', '7', '2', '9', '8', '8', '7', '7', '0', '9', '4', '0', '8',\n",
       "       '2', '9', '8', '4', '8', '8', '7', '7', '2', '1', '6', '4', '5',\n",
       "       '5', '5', '8', '0', '7', '9', '0', '7', '9', '7', '1', '5', '9',\n",
       "       '0', '1', '0', '7', '9', '3', '2', '0', '4', '1', '6', '3', '1',\n",
       "       '0', '7', '5', '7', '8', '0', '9', '1', '3', '1', '4', '9', '0',\n",
       "       '4', '1', '7', '8', '2', '5', '4', '9', '1', '5', '2', '5', '3',\n",
       "       '5', '4', '9', '3', '7', '2', '4', '3', '8', '6', '0', '2', '4',\n",
       "       '6', '6', '6', '2', '3', '3', '8', '6', '8', '1', '7', '8', '2',\n",
       "       '2', '8', '5', '6', '7', '6', '9', '6', '7', '7', '1', '4', '3',\n",
       "       '6', '0', '9', '1', '7', '0', '5', '6', '0', '5', '0', '6', '0',\n",
       "       '7', '1', '1', '7', '5', '0', '0', '6', '6', '9', '3', '2', '5',\n",
       "       '9', '7', '0', '3', '2', '8', '4', '2', '4', '1', '4', '5', '5',\n",
       "       '0', '5', '8', '2', '2', '9', '0', '0', '5', '2', '4', '1', '1',\n",
       "       '5', '4', '9', '5', '0', '1', '7', '1', '3', '3', '3', '6', '7',\n",
       "       '1', '9', '5', '3', '8', '5', '6', '8', '0', '7', '6', '2', '1',\n",
       "       '7', '8', '6', '4', '3', '7', '5', '7', '0', '9', '1', '8', '7',\n",
       "       '1', '5', '2', '4', '3', '8', '1', '2', '3', '3', '7', '8', '7',\n",
       "       '9', '7', '3', '6', '1', '7', '4', '0', '1', '9', '2', '6', '2',\n",
       "       '8', '2', '5', '1', '6', '1', '1', '3', '2', '9', '3', '6', '7',\n",
       "       '6', '1', '1', '5', '9', '9', '3', '9', '5', '7', '0', '7', '8',\n",
       "       '1', '0', '1', '9', '4', '8', '5', '4', '4', '8', '8', '4', '1',\n",
       "       '2', '8', '4', '6', '2', '2', '7', '5', '4', '9', '8', '0', '8',\n",
       "       '3', '0', '7', '1', '8', '4', '3', '0', '7', '3', '4', '9', '4',\n",
       "       '4', '1', '3', '0', '1', '2', '6', '4', '6', '5', '6', '4', '1',\n",
       "       '5', '1', '9', '6', '5', '0', '3', '3', '1', '2', '8', '6', '5',\n",
       "       '5', '0', '9', '0', '3', '2', '2', '4', '8', '0', '9', '4', '6',\n",
       "       '3', '8', '2', '1', '0', '2', '9', '6', '0', '6', '2', '2', '0',\n",
       "       '9', '8', '1', '6', '7', '1', '5', '2', '7', '4', '9', '3', '9',\n",
       "       '3', '1', '0', '7', '3', '6', '6', '7', '9', '8', '9', '7', '8',\n",
       "       '3', '7', '1', '8', '4', '2', '9', '1', '4', '8', '4', '3', '4',\n",
       "       '8', '1', '2', '9', '0', '6', '8', '9', '1', '6', '2', '7', '0',\n",
       "       '5', '0', '4', '3', '3', '3', '2', '4', '7', '4', '0', '1', '6',\n",
       "       '0', '3', '7', '4', '3', '0', '8', '4', '0', '7', '1', '4', '0',\n",
       "       '4', '8', '3', '6', '8', '6', '7', '9', '2', '6', '9', '0', '8',\n",
       "       '1', '3', '0', '9', '0', '2', '1', '6', '1', '7', '6', '9', '7',\n",
       "       '5', '8', '7', '9', '0', '9', '1', '0', '1', '8', '6', '3', '6',\n",
       "       '8', '4', '7', '6', '2', '1', '0', '2', '3', '5', '0', '5', '4',\n",
       "       '1', '9', '6', '2', '0', '9', '5', '2', '7', '1', '7', '8', '1',\n",
       "       '5', '4', '6', '2', '2', '2', '2', '5', '9', '3', '9', '4', '2',\n",
       "       '9', '5', '6', '6', '2', '5', '1', '3', '1', '6', '7', '5', '6',\n",
       "       '9', '4', '2', '7', '6', '5', '1', '3', '2', '9', '3', '2', '3',\n",
       "       '5', '3', '5', '7', '5', '0', '4', '5', '3', '1', '5', '2', '2',\n",
       "       '1', '1', '9', '9', '3', '1', '4', '8', '4', '9', '0', '1', '8',\n",
       "       '8', '7', '9', '7', '2', '2', '6', '9', '5', '3', '7', '4', '8',\n",
       "       '4', '1', '4', '7', '9', '1', '2', '6', '3', '0', '9', '0', '8',\n",
       "       '1', '9', '8', '6', '9', '7', '1', '3', '1', '5', '5', '7', '3',\n",
       "       '1', '1', '3', '6', '3', '7', '7', '2', '1', '3', '7', '8', '7',\n",
       "       '7', '2', '1', '8', '3', '8', '3', '0', '3', '6', '1', '4', '7',\n",
       "       '6', '6', '8', '0', '6', '1', '7', '4', '0', '6', '4', '3', '7',\n",
       "       '2', '4', '7', '1', '6', '6', '6', '5', '4', '2', '9'],\n",
       "      dtype=object)"
      ]
     },
     "execution_count": 21,
     "metadata": {},
     "output_type": "execute_result"
    }
   ],
   "source": [
    "%time my_clf.predict(X_test)"
   ]
  },
  {
   "cell_type": "code",
   "execution_count": 22,
   "metadata": {},
   "outputs": [
    {
     "name": "stdout",
     "output_type": "stream",
     "text": [
      "CPU times: user 3.5 s, sys: 264 ms, total: 3.77 s\n",
      "Wall time: 2.17 s\n"
     ]
    },
    {
     "data": {
      "text/plain": [
       "array([[0., 0., 0., ..., 1., 0., 0.],\n",
       "       [0., 0., 0., ..., 0., 0., 1.],\n",
       "       [0., 0., 0., ..., 0., 0., 0.],\n",
       "       ...,\n",
       "       [0., 0., 0., ..., 0., 0., 0.],\n",
       "       [0., 0., 1., ..., 0., 0., 0.],\n",
       "       [0., 0., 0., ..., 0., 0., 1.]])"
      ]
     },
     "execution_count": 22,
     "metadata": {},
     "output_type": "execute_result"
    }
   ],
   "source": [
    "%time clf.predict_proba(X_test)"
   ]
  },
  {
   "cell_type": "code",
   "execution_count": 23,
   "metadata": {},
   "outputs": [
    {
     "name": "stdout",
     "output_type": "stream",
     "text": [
      "CPU times: user 3.89 s, sys: 276 ms, total: 4.17 s\n",
      "Wall time: 2.32 s\n"
     ]
    },
    {
     "data": {
      "text/plain": [
       "array([[0., 0., 0., ..., 1., 0., 0.],\n",
       "       [0., 0., 0., ..., 0., 0., 1.],\n",
       "       [0., 0., 0., ..., 0., 0., 0.],\n",
       "       ...,\n",
       "       [0., 0., 0., ..., 0., 0., 0.],\n",
       "       [0., 0., 1., ..., 0., 0., 0.],\n",
       "       [0., 0., 0., ..., 0., 0., 1.]])"
      ]
     },
     "execution_count": 23,
     "metadata": {},
     "output_type": "execute_result"
    }
   ],
   "source": [
    "%time my_clf.predict_proba(X_test)"
   ]
  },
  {
   "cell_type": "code",
   "execution_count": 24,
   "metadata": {},
   "outputs": [
    {
     "data": {
      "text/plain": [
       "0.9728571428571429"
      ]
     },
     "execution_count": 24,
     "metadata": {},
     "output_type": "execute_result"
    }
   ],
   "source": [
    "clf.score(X_test, y_test)"
   ]
  },
  {
   "cell_type": "code",
   "execution_count": 25,
   "metadata": {},
   "outputs": [
    {
     "data": {
      "text/plain": [
       "0.9728571428571429"
      ]
     },
     "execution_count": 25,
     "metadata": {},
     "output_type": "execute_result"
    }
   ],
   "source": [
    "my_clf.score(X_test, y_test)"
   ]
  },
  {
   "cell_type": "markdown",
   "metadata": {},
   "source": [
    "Задание 4"
   ]
  },
  {
   "cell_type": "code",
   "execution_count": 26,
   "metadata": {},
   "outputs": [],
   "source": [
    "clf = KNeighborsClassifier(n_neighbors=opt_k, algorithm='kd_tree')\n",
    "my_clf = MyKNeighborsClassifier(n_neighbors=opt_k, algorithm='kd_tree')"
   ]
  },
  {
   "cell_type": "code",
   "execution_count": 27,
   "metadata": {},
   "outputs": [],
   "source": [
    "X_train, X_test, y_train, y_test = train_test_split(mnist.data, mnist.target, test_size=0.01, stratify=mnist.target)"
   ]
  },
  {
   "cell_type": "code",
   "execution_count": 28,
   "metadata": {},
   "outputs": [
    {
     "name": "stdout",
     "output_type": "stream",
     "text": [
      "CPU times: user 56.6 s, sys: 52.9 ms, total: 56.7 s\n",
      "Wall time: 56.6 s\n"
     ]
    },
    {
     "data": {
      "text/plain": [
       "KNeighborsClassifier(algorithm='kd_tree', leaf_size=30, metric='minkowski',\n",
       "           metric_params=None, n_jobs=None, n_neighbors=17, p=2,\n",
       "           weights='uniform')"
      ]
     },
     "execution_count": 28,
     "metadata": {},
     "output_type": "execute_result"
    }
   ],
   "source": [
    "%time clf.fit(X_train, y_train)"
   ]
  },
  {
   "cell_type": "code",
   "execution_count": 29,
   "metadata": {},
   "outputs": [
    {
     "name": "stdout",
     "output_type": "stream",
     "text": [
      "CPU times: user 1min, sys: 122 ms, total: 1min\n",
      "Wall time: 1min\n"
     ]
    }
   ],
   "source": [
    "%time my_clf.fit(X_train, y_train)"
   ]
  },
  {
   "cell_type": "code",
   "execution_count": 30,
   "metadata": {},
   "outputs": [
    {
     "name": "stdout",
     "output_type": "stream",
     "text": [
      "CPU times: user 1min 17s, sys: 10.7 ms, total: 1min 17s\n",
      "Wall time: 1min 17s\n"
     ]
    },
    {
     "data": {
      "text/plain": [
       "array(['0', '9', '7', '9', '6', '3', '4', '0', '7', '6', '8', '2', '1',\n",
       "       '5', '5', '7', '9', '0', '1', '9', '5', '8', '7', '1', '8', '8',\n",
       "       '8', '9', '0', '7', '8', '0', '9', '5', '9', '8', '3', '7', '4',\n",
       "       '6', '0', '4', '2', '7', '3', '8', '7', '7', '5', '0', '5', '3',\n",
       "       '3', '7', '3', '8', '4', '5', '3', '5', '3', '8', '2', '2', '2',\n",
       "       '4', '0', '9', '6', '7', '6', '3', '8', '0', '4', '0', '4', '8',\n",
       "       '2', '5', '7', '3', '2', '0', '6', '9', '5', '7', '8', '9', '1',\n",
       "       '5', '6', '2', '1', '5', '1', '2', '7', '8', '9', '9', '5', '0',\n",
       "       '4', '2', '3', '1', '8', '0', '4', '1', '7', '0', '6', '3', '4',\n",
       "       '0', '6', '0', '8', '9', '3', '9', '8', '6', '3', '1', '2', '5',\n",
       "       '6', '6', '8', '9', '7', '5', '5', '8', '9', '2', '9', '3', '5',\n",
       "       '4', '8', '4', '4', '2', '7', '1', '1', '0', '2', '5', '7', '0',\n",
       "       '4', '8', '8', '2', '9', '6', '4', '1', '8', '5', '0', '0', '6',\n",
       "       '7', '1', '7', '1', '7', '6', '3', '4', '2', '9', '7', '0', '9',\n",
       "       '2', '5', '1', '2', '3', '0', '9', '2', '6', '3', '7', '6', '3',\n",
       "       '5', '3', '7', '2', '1', '7', '2', '1', '4', '1', '2', '2', '9',\n",
       "       '6', '6', '3', '2', '9', '4', '7', '4', '9', '8', '0', '3', '8',\n",
       "       '0', '8', '0', '9', '4', '4', '7', '4', '1', '5', '4', '0', '1',\n",
       "       '5', '5', '3', '7', '7', '2', '9', '3', '0', '1', '2', '8', '5',\n",
       "       '3', '4', '6', '9', '2', '7', '4', '6', '0', '1', '5', '6', '7',\n",
       "       '2', '9', '7', '2', '1', '7', '1', '9', '8', '5', '6', '1', '0',\n",
       "       '0', '5', '9', '7', '1', '6', '1', '1', '3', '9', '7', '0', '5',\n",
       "       '3', '9', '8', '6', '5', '3', '1', '3', '7', '3', '5', '4', '4',\n",
       "       '3', '3', '9', '4', '5', '4', '8', '2', '5', '4', '0', '2', '4',\n",
       "       '9', '6', '2', '2', '6', '9', '3', '0', '1', '5', '8', '2', '5',\n",
       "       '1', '6', '7', '2', '2', '5', '2', '8', '1', '6', '5', '9', '3',\n",
       "       '6', '2', '5', '3', '4', '2', '1', '9', '8', '1', '3', '8', '4',\n",
       "       '9', '6', '3', '0', '7', '0', '1', '7', '5', '0', '1', '6', '3',\n",
       "       '6', '5', '7', '6', '8', '1', '9', '0', '5', '1', '9', '0', '8',\n",
       "       '7', '1', '2', '7', '3', '1', '6', '4', '3', '8', '5', '9', '5',\n",
       "       '7', '2', '4', '3', '1', '1', '2', '5', '5', '6', '0', '4', '4',\n",
       "       '8', '1', '0', '6', '3', '8', '6', '9', '6', '0', '2', '0', '9',\n",
       "       '7', '8', '0', '8', '9', '4', '4', '0', '5', '6', '1', '9', '1',\n",
       "       '7', '1', '1', '1', '3', '8', '8', '4', '8', '5', '5', '2', '9',\n",
       "       '8', '2', '7', '6', '5', '9', '6', '8', '7', '5', '2', '7', '9',\n",
       "       '8', '7', '9', '1', '4', '3', '5', '1', '2', '2', '1', '7', '1',\n",
       "       '2', '9', '9', '4', '0', '4', '5', '8', '6', '1', '5', '6', '5',\n",
       "       '1', '4', '3', '3', '4', '6', '7', '7', '2', '2', '4', '9', '0',\n",
       "       '7', '6', '2', '3', '3', '8', '0', '0', '5', '0', '4', '0', '0',\n",
       "       '9', '7', '6', '7', '2', '0', '0', '6', '9', '1', '8', '9', '9',\n",
       "       '1', '8', '5', '2', '4', '4', '0', '2', '6', '4', '0', '2', '9',\n",
       "       '0', '8', '8', '3', '2', '1', '1', '5', '9', '7', '6', '6', '3',\n",
       "       '2', '2', '0', '3', '1', '8', '6', '0', '0', '9', '1', '6', '7',\n",
       "       '7', '6', '9', '9', '3', '1', '6', '4', '4', '5', '4', '5', '0',\n",
       "       '3', '9', '9', '7', '4', '9', '7', '7', '3', '6', '4', '2', '1',\n",
       "       '5', '3', '9', '8', '7', '6', '2', '6', '9', '9', '5', '8', '7',\n",
       "       '1', '4', '4', '0', '4', '4', '6', '0', '3', '6', '7', '2', '2',\n",
       "       '9', '5', '1', '8', '9', '3', '3', '1', '4', '9', '1', '6', '9',\n",
       "       '3', '1', '8', '5', '3', '1', '3', '3', '1', '6', '7', '1', '1',\n",
       "       '0', '7', '6', '8', '7', '1', '9', '0', '7', '8', '1', '6', '3',\n",
       "       '1', '9', '3', '9', '0', '3', '2', '5', '4', '4', '4', '7', '8',\n",
       "       '3', '7', '2', '7', '6', '2', '1', '6', '5', '6', '9', '3', '3',\n",
       "       '8', '3', '4', '3', '7', '9', '3', '8', '0', '6', '0', '8', '0',\n",
       "       '1', '4', '9', '8', '1', '6', '1', '2', '1', '8', '4'],\n",
       "      dtype=object)"
      ]
     },
     "execution_count": 30,
     "metadata": {},
     "output_type": "execute_result"
    }
   ],
   "source": [
    "%time clf.predict(X_test)"
   ]
  },
  {
   "cell_type": "code",
   "execution_count": 31,
   "metadata": {},
   "outputs": [
    {
     "name": "stdout",
     "output_type": "stream",
     "text": [
      "CPU times: user 1min 2s, sys: 35.4 ms, total: 1min 2s\n",
      "Wall time: 1min 2s\n"
     ]
    },
    {
     "data": {
      "text/plain": [
       "array(['0', '9', '7', '9', '6', '3', '4', '0', '7', '6', '8', '2', '1',\n",
       "       '5', '5', '7', '9', '0', '1', '9', '5', '8', '7', '1', '8', '8',\n",
       "       '8', '9', '0', '7', '8', '0', '9', '5', '9', '8', '3', '7', '4',\n",
       "       '6', '0', '4', '2', '7', '3', '8', '7', '7', '5', '0', '5', '3',\n",
       "       '3', '7', '3', '8', '4', '5', '3', '5', '3', '8', '2', '2', '2',\n",
       "       '4', '0', '9', '6', '7', '6', '3', '8', '0', '4', '0', '4', '8',\n",
       "       '2', '5', '7', '3', '2', '0', '6', '9', '5', '7', '8', '9', '1',\n",
       "       '5', '6', '2', '1', '5', '1', '2', '7', '8', '9', '9', '5', '0',\n",
       "       '4', '2', '3', '1', '8', '0', '4', '1', '7', '0', '6', '3', '4',\n",
       "       '0', '6', '0', '8', '9', '3', '9', '8', '6', '3', '1', '2', '5',\n",
       "       '6', '6', '8', '9', '7', '5', '5', '8', '9', '2', '9', '3', '5',\n",
       "       '4', '8', '4', '4', '2', '7', '1', '1', '0', '2', '5', '7', '0',\n",
       "       '4', '8', '8', '2', '9', '6', '4', '1', '8', '5', '0', '0', '6',\n",
       "       '7', '1', '7', '1', '7', '6', '3', '4', '2', '9', '7', '0', '9',\n",
       "       '2', '5', '1', '2', '3', '0', '9', '2', '6', '3', '7', '6', '3',\n",
       "       '5', '3', '7', '2', '1', '7', '2', '1', '4', '1', '2', '2', '9',\n",
       "       '6', '6', '3', '2', '9', '4', '7', '4', '9', '8', '0', '3', '8',\n",
       "       '0', '8', '0', '9', '4', '4', '7', '4', '1', '5', '4', '0', '1',\n",
       "       '5', '5', '3', '7', '7', '2', '9', '3', '0', '1', '2', '8', '5',\n",
       "       '3', '4', '6', '9', '2', '7', '4', '6', '0', '1', '5', '6', '7',\n",
       "       '2', '9', '7', '2', '1', '7', '1', '9', '8', '5', '6', '1', '0',\n",
       "       '0', '5', '9', '7', '1', '6', '1', '1', '3', '9', '7', '0', '5',\n",
       "       '3', '9', '8', '6', '5', '3', '1', '3', '7', '3', '5', '4', '4',\n",
       "       '3', '3', '9', '4', '5', '4', '8', '2', '5', '4', '0', '2', '4',\n",
       "       '9', '6', '2', '2', '6', '9', '3', '0', '1', '5', '8', '2', '5',\n",
       "       '1', '6', '7', '2', '2', '5', '2', '8', '1', '6', '5', '9', '3',\n",
       "       '6', '2', '5', '3', '4', '2', '1', '9', '8', '1', '3', '8', '4',\n",
       "       '9', '6', '3', '0', '7', '0', '1', '7', '5', '0', '1', '6', '3',\n",
       "       '6', '5', '7', '6', '8', '1', '9', '0', '5', '1', '9', '0', '8',\n",
       "       '7', '1', '2', '7', '3', '1', '6', '4', '3', '8', '5', '9', '5',\n",
       "       '7', '2', '4', '3', '1', '1', '2', '5', '5', '6', '0', '4', '4',\n",
       "       '8', '1', '0', '6', '3', '8', '6', '9', '6', '0', '2', '0', '9',\n",
       "       '7', '8', '0', '8', '9', '4', '4', '0', '5', '6', '1', '9', '1',\n",
       "       '7', '1', '1', '1', '3', '8', '8', '4', '8', '5', '5', '2', '9',\n",
       "       '8', '2', '7', '6', '5', '9', '6', '8', '7', '5', '2', '7', '9',\n",
       "       '8', '7', '9', '1', '4', '3', '5', '1', '2', '2', '1', '7', '1',\n",
       "       '2', '9', '9', '4', '0', '4', '5', '8', '6', '1', '5', '6', '5',\n",
       "       '1', '4', '3', '3', '4', '6', '7', '7', '2', '2', '4', '9', '0',\n",
       "       '7', '6', '2', '3', '3', '8', '0', '0', '5', '0', '4', '0', '0',\n",
       "       '9', '7', '6', '7', '2', '0', '0', '6', '9', '1', '8', '9', '9',\n",
       "       '1', '8', '5', '2', '4', '4', '0', '2', '6', '4', '0', '2', '9',\n",
       "       '0', '8', '8', '3', '2', '1', '1', '5', '9', '7', '6', '6', '3',\n",
       "       '2', '2', '0', '3', '1', '8', '6', '0', '0', '9', '1', '6', '7',\n",
       "       '7', '6', '9', '9', '3', '1', '6', '4', '4', '5', '4', '5', '0',\n",
       "       '3', '9', '9', '7', '4', '9', '7', '7', '3', '6', '4', '2', '1',\n",
       "       '5', '3', '9', '8', '7', '6', '2', '6', '9', '9', '5', '8', '7',\n",
       "       '1', '4', '4', '0', '4', '4', '6', '0', '3', '6', '7', '2', '2',\n",
       "       '9', '5', '1', '8', '9', '3', '3', '1', '4', '9', '1', '6', '9',\n",
       "       '3', '1', '8', '5', '3', '1', '3', '3', '1', '6', '7', '1', '1',\n",
       "       '0', '7', '6', '8', '7', '1', '9', '0', '7', '8', '1', '6', '3',\n",
       "       '1', '9', '3', '9', '0', '3', '2', '5', '4', '4', '4', '7', '8',\n",
       "       '3', '7', '2', '7', '6', '2', '1', '6', '5', '6', '9', '3', '3',\n",
       "       '8', '3', '4', '3', '7', '9', '3', '8', '0', '6', '0', '8', '0',\n",
       "       '1', '4', '9', '8', '1', '6', '1', '2', '1', '8', '4'],\n",
       "      dtype=object)"
      ]
     },
     "execution_count": 31,
     "metadata": {},
     "output_type": "execute_result"
    }
   ],
   "source": [
    "%time my_clf.predict(X_test)"
   ]
  },
  {
   "cell_type": "code",
   "execution_count": 32,
   "metadata": {},
   "outputs": [
    {
     "name": "stdout",
     "output_type": "stream",
     "text": [
      "CPU times: user 1min 17s, sys: 104 ms, total: 1min 17s\n",
      "Wall time: 1min 17s\n"
     ]
    },
    {
     "data": {
      "text/plain": [
       "array([[1., 0., 0., ..., 0., 0., 0.],\n",
       "       [0., 0., 0., ..., 0., 0., 1.],\n",
       "       [0., 0., 0., ..., 1., 0., 0.],\n",
       "       ...,\n",
       "       [0., 1., 0., ..., 0., 0., 0.],\n",
       "       [0., 0., 0., ..., 0., 1., 0.],\n",
       "       [0., 0., 0., ..., 0., 0., 0.]])"
      ]
     },
     "execution_count": 32,
     "metadata": {},
     "output_type": "execute_result"
    }
   ],
   "source": [
    "%time clf.predict_proba(X_test)"
   ]
  },
  {
   "cell_type": "code",
   "execution_count": 33,
   "metadata": {},
   "outputs": [
    {
     "name": "stdout",
     "output_type": "stream",
     "text": [
      "CPU times: user 1min 3s, sys: 3.74 ms, total: 1min 3s\n",
      "Wall time: 1min 3s\n"
     ]
    },
    {
     "data": {
      "text/plain": [
       "array([[1., 0., 0., ..., 0., 0., 0.],\n",
       "       [0., 0., 0., ..., 0., 0., 1.],\n",
       "       [0., 0., 0., ..., 1., 0., 0.],\n",
       "       ...,\n",
       "       [0., 1., 0., ..., 0., 0., 0.],\n",
       "       [0., 0., 0., ..., 0., 1., 0.],\n",
       "       [0., 0., 0., ..., 0., 0., 0.]])"
      ]
     },
     "execution_count": 33,
     "metadata": {},
     "output_type": "execute_result"
    }
   ],
   "source": [
    "%time my_clf.predict_proba(X_test)"
   ]
  },
  {
   "cell_type": "code",
   "execution_count": 34,
   "metadata": {},
   "outputs": [
    {
     "data": {
      "text/plain": [
       "0.9757142857142858"
      ]
     },
     "execution_count": 34,
     "metadata": {},
     "output_type": "execute_result"
    }
   ],
   "source": [
    "clf.score(X_test, y_test)"
   ]
  },
  {
   "cell_type": "code",
   "execution_count": 35,
   "metadata": {},
   "outputs": [
    {
     "data": {
      "text/plain": [
       "0.9757142857142858"
      ]
     },
     "execution_count": 35,
     "metadata": {},
     "output_type": "execute_result"
    }
   ],
   "source": [
    "my_clf.score(X_test, y_test)"
   ]
  },
  {
   "cell_type": "markdown",
   "metadata": {},
   "source": [
    "Задание 5"
   ]
  },
  {
   "cell_type": "code",
   "execution_count": null,
   "metadata": {},
   "outputs": [],
   "source": [
    "# seaborn - более высокоуровневая визуалиция, чем в matplotlib, проще визуализировать сложные объекты,\n",
    "#                                                              накладывать сетку и т.д.\n",
    "# matplotlib  - визуализация, графики\n",
    "# train_test_split - делит датасет на train и test \n",
    "# Pipelin%load_ext e (from sklearn.pipeline import Pipeline) - конвейер, последовательное выполнение действий,\n",
    "#                                                              например fit(), predict(), score()\n",
    "# StandardScaler (from sklearn.preprocessing import StandardScaler) - стандартизация, т.е. все признаки приводятся\n",
    "#                                                                      к виду: мат. ожидание = 0, дисперсия = 1\n",
    "# ClassifierMixin - возвращает среднее значение accuracy, можно использовать в 3 задании для более точной оценки\n",
    "# NeighborsBase - используется для реализации классификатора sklearn\n",
    "# KNeighborsMixin - используется в sklearn для поиска ближайших соседей\n",
    "# SupervisedIntegerMixin - проверяет тип параметров (int) и вызывает функцию"
   ]
  }
 ],
 "metadata": {
  "kernelspec": {
   "display_name": "Python 3",
   "language": "python",
   "name": "python3"
  },
  "language_info": {
   "codemirror_mode": {
    "name": "ipython",
    "version": 3
   },
   "file_extension": ".py",
   "mimetype": "text/x-python",
   "name": "python",
   "nbconvert_exporter": "python",
   "pygments_lexer": "ipython3",
   "version": "3.7.1"
  }
 },
 "nbformat": 4,
 "nbformat_minor": 2
}
